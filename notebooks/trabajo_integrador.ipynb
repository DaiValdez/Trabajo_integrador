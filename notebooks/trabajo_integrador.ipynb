{
 "cells": [
  {
   "cell_type": "markdown",
   "id": "1920ecb1",
   "metadata": {},
   "source": [
    "# Trabajo Práctico Integrador - Base de Datos NoSQL\n",
    "\n",
    "## Tema: Sistema de Gestión y Recomendación de Viajes\n",
    "### Bases de datos a utilizar: Neo4j, MongoDB y Redis\n",
    "\n",
    "\n",
    "#### Grupo: Daiana Valdez, Julieta Iberra\n",
    "#### Materia: Base de Datos\n",
    "#### Fecha de entrega: 29/10/2025"
   ]
  }
 ],
 "metadata": {
  "language_info": {
   "name": "python"
  }
 },
 "nbformat": 4,
 "nbformat_minor": 5
}
